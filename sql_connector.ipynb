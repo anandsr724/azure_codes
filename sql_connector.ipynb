{
 "cells": [
  {
   "cell_type": "code",
   "execution_count": null,
   "id": "5e95ce4c",
   "metadata": {},
   "outputs": [],
   "source": [
    "class DatabaseConnection:\n",
    "    def __init__(self):\n",
    "        pass\n",
    "    \n",
    "    def connection_properties(self, environment):\n",
    "        if environment == 'production':\n",
    "            print(prod)\n",
    "        else:\n",
    "            pass\n",
    "        \n",
    "        jdbcurl = \"jdbc:sqlserver://{}:{};database={};authentication=ActiveDirectoryServicePrincipal;encrypt=true;trustServerCertificate=false;HostNameInCertificate=*.database.windows.net;loginTimeout=30;AADSecurePrincipalId={}@{};AADSecurePrincipalSecret={}\".format(\n",
    "            host,\n",
    "            port,\n",
    "            database,\n",
    "            client_id,\n",
    "            tenant_id,\n",
    "            client_secret\n",
    "        )\n",
    "        \n",
    "        connectionProperties = {\n",
    "            \"driver\": \"com.microsoft.sqlserver.jdbc.SQLServerDriver\"\n",
    "        }\n",
    "        \n",
    "        return {\"url\": jdbcurl, \"properties\": connectionProperties}\n",
    "    \n",
    "    def read_data_sqldb(self, read_query, environment):\n",
    "        db_connection = self.connection_properties(environment)\n",
    "        try:\n",
    "            print(\"Reading query...\")\n",
    "            df_read_query = spark.read.jdbc(\n",
    "                url=db_connection[\"url\"],\n",
    "                table=f\"({read_query}) AS temp_table\",\n",
    "                properties=db_connection[\"properties\"]\n",
    "            )\n",
    "            return df_read_query\n",
    "        except Exception as exe:\n",
    "            print(\"Running exception\")\n",
    "            error = type(exe).__name__\n",
    "            error_des = str(exe)\n",
    "            print(f\"Error: {error}\")\n",
    "            print(f\"Error Description: {error_des}\")\n",
    "            return None\n",
    "\n",
    "# Usage\n",
    "conn = DatabaseConnection()\n",
    "df = conn.read_data_sqldb(\"SELECT 'test-a1' AS name1, 'test-a2' AS name2\", \"nonprod\")"
   ]
  }
 ],
 "metadata": {
  "language_info": {
   "name": "python"
  }
 },
 "nbformat": 4,
 "nbformat_minor": 5
}
