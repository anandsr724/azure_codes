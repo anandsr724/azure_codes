{
 "cells": [
  {
   "cell_type": "code",
   "execution_count": null,
   "id": "524d9d8f",
   "metadata": {},
   "outputs": [],
   "source": [
    "!pip install azure-storage-file-datalake azure-identity"
   ]
  },
  {
   "cell_type": "code",
   "execution_count": null,
   "id": "9fbbb7a5",
   "metadata": {},
   "outputs": [],
   "source": [
    "import os\n",
    "from azure.storage.filedatalake import (\n",
    "    DataLakeServiceClient,\n",
    "    DataLakeDirectoryClient,\n",
    "    FileSystemClient\n",
    ")\n",
    "from azure.identity import DefaultAzureCredential"
   ]
  },
  {
   "cell_type": "markdown",
   "id": "1f745e71",
   "metadata": {},
   "source": [
    "Authorization, use your credentials"
   ]
  },
  {
   "cell_type": "code",
   "execution_count": null,
   "id": "7aa627b5",
   "metadata": {},
   "outputs": [],
   "source": [
    "# Create a container\n",
    "\n",
    "def create_file_system(self, service_client: DataLakeServiceClient, file_system_name: str) -> FileSystemClient:\n",
    "    file_system_client = service_client.create_file_system(file_system=file_system_name)\n",
    "\n",
    "    return file_system_client"
   ]
  },
  {
   "cell_type": "code",
   "execution_count": null,
   "id": "4fe6c885",
   "metadata": {},
   "outputs": [],
   "source": [
    "# Create a directory\n",
    "\n",
    "def create_directory(self, file_system_client: FileSystemClient, directory_name: str) -> DataLakeDirectoryClient:\n",
    "    directory_client = file_system_client.create_directory(directory_name)\n",
    "\n",
    "    return directory_client"
   ]
  },
  {
   "cell_type": "code",
   "execution_count": null,
   "id": "d58a7d01",
   "metadata": {},
   "outputs": [],
   "source": [
    "# Rename or move a directory\n",
    "\n",
    "def rename_directory(self, directory_client: DataLakeDirectoryClient, new_dir_name: str):\n",
    "    directory_client.rename_directory(\n",
    "        new_name=f\"{directory_client.file_system_name}/{new_dir_name}\")"
   ]
  },
  {
   "cell_type": "code",
   "execution_count": null,
   "id": "3061b108",
   "metadata": {},
   "outputs": [],
   "source": [
    "# Upload a file to directory\n",
    "\n",
    "def upload_file_to_directory(self, directory_client: DataLakeDirectoryClient, local_path: str, file_name: str):\n",
    "    file_client = directory_client.get_file_client(file_name)\n",
    "\n",
    "    with open(file=os.path.join(local_path, file_name), mode=\"rb\") as data:\n",
    "        file_client.upload_data(data, overwrite=True)\n",
    "\n",
    "# Append to file \n",
    "\n",
    "def append_data_to_file(self, directory_client: DataLakeDirectoryClient, file_name: str):\n",
    "    file_client = directory_client.get_file_client(file_name)\n",
    "    file_size = file_client.get_file_properties().size\n",
    "    \n",
    "    data = b\"Data to append to end of file\"\n",
    "    file_client.append_data(data, offset=file_size, length=len(data))\n",
    "\n",
    "    file_client.flush_data(file_size + len(data))"
   ]
  },
  {
   "cell_type": "code",
   "execution_count": null,
   "id": "cf2fbc4b",
   "metadata": {},
   "outputs": [],
   "source": [
    "# Download from directory\n",
    "\n",
    "def download_file_from_directory(self, directory_client: DataLakeDirectoryClient, local_path: str, file_name: str):\n",
    "    file_client = directory_client.get_file_client(file_name)\n",
    "\n",
    "    with open(file=os.path.join(local_path, file_name), mode=\"wb\") as local_file:\n",
    "        download = file_client.download_file()\n",
    "        local_file.write(download.readall())\n",
    "        local_file.close()\n",
    "\n",
    "# List directory contents\n",
    "\n",
    "def list_directory_contents(self, file_system_client: FileSystemClient, directory_name: str):\n",
    "    paths = file_system_client.get_paths(path=directory_name)\n",
    "\n",
    "    for path in paths:\n",
    "        print(path.name + '\\n')"
   ]
  },
  {
   "cell_type": "code",
   "execution_count": null,
   "id": "152fcb22",
   "metadata": {},
   "outputs": [],
   "source": []
  }
 ],
 "metadata": {
  "kernelspec": {
   "display_name": ".venv",
   "language": "python",
   "name": "python3"
  },
  "language_info": {
   "codemirror_mode": {
    "name": "ipython",
    "version": 3
   },
   "file_extension": ".py",
   "mimetype": "text/x-python",
   "name": "python",
   "nbconvert_exporter": "python",
   "pygments_lexer": "ipython3",
   "version": "3.11.7"
  }
 },
 "nbformat": 4,
 "nbformat_minor": 5
}
