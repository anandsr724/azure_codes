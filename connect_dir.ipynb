{
 "cells": [
  {
   "cell_type": "code",
   "execution_count": null,
   "id": "243e088c",
   "metadata": {},
   "outputs": [],
   "source": [
    "!pip install azure-identity azure-storage-file-datalake"
   ]
  },
  {
   "cell_type": "code",
   "execution_count": null,
   "id": "6ed0f789",
   "metadata": {},
   "outputs": [],
   "source": [
    "from dotenv import load_dotenv\n",
    "import os\n",
    "\n",
    "load_dotenv()  # Loads values from .env into os.environ"
   ]
  },
  {
   "cell_type": "code",
   "execution_count": null,
   "id": "69c7f3d4",
   "metadata": {},
   "outputs": [],
   "source": [
    "from azure.identity import ClientSecretCredential, DefaultAzureCredential\n",
    "from azure.storage.filedatalake import DataLakeServiceClient\n",
    "import os\n",
    "\n",
    "def get_adls_client(storage_account_name: str,\n",
    "                    tenant_id: str = None,\n",
    "                    client_id: str = None,\n",
    "                    client_secret: str = None,\n",
    "                    use_managed_identity: bool = False):\n",
    "    \"\"\"\n",
    "    Returns a DataLakeServiceClient to interact with ADLS Gen2\n",
    "\n",
    "    Parameters:\n",
    "    - storage_account_name: name of the ADLS account\n",
    "    - tenant_id, client_id, client_secret: for Service Principal (used in local/dev)\n",
    "    - use_managed_identity: if True, uses DefaultAzureCredential (use in Azure)\n",
    "\n",
    "    Returns:\n",
    "    - DataLakeServiceClient\n",
    "    \"\"\"\n",
    "\n",
    "    if use_managed_identity:\n",
    "        credential = DefaultAzureCredential()\n",
    "    else:\n",
    "        credential = ClientSecretCredential(\n",
    "            tenant_id=tenant_id,\n",
    "            client_id=client_id,\n",
    "            client_secret=client_secret\n",
    "        )\n",
    "\n",
    "    url = f\"https://{storage_account_name}.dfs.core.windows.net\"\n",
    "    return DataLakeServiceClient(account_url=url, credential=credential)\n"
   ]
  },
  {
   "cell_type": "code",
   "execution_count": null,
   "id": "2875230c",
   "metadata": {},
   "outputs": [],
   "source": [
    "\n",
    "# for local environment , Values from your Azure App Registration (Service Principal)\n",
    "client = get_adls_client(\n",
    "    storage_account_name=\"your_adls_account_name\",\n",
    "    tenant_id=os.getenv(\"AZURE_TENANT_ID\"),\n",
    "    client_id=os.getenv(\"AZURE_CLIENT_ID\"),\n",
    "    client_secret=os.getenv(\"AZURE_CLIENT_SECRET\"),\n",
    "    use_managed_identity=False\n",
    ")\n"
   ]
  },
  {
   "cell_type": "code",
   "execution_count": null,
   "id": "f0bba4c6",
   "metadata": {},
   "outputs": [],
   "source": [
    "\n",
    "# Hosted on Azure , Azure will handle auth via Managed Identity\n",
    "# client or datalake_client\n",
    "client = get_adls_client(\n",
    "    storage_account_name=\"your_adls_account_name\",\n",
    "    use_managed_identity=True\n",
    ")\n"
   ]
  },
  {
   "cell_type": "code",
   "execution_count": null,
   "id": "d06b3d86",
   "metadata": {},
   "outputs": [],
   "source": [
    "# list files in the Directory\n",
    "\n",
    "file_system_client = client.get_file_system_client(file_system=\"my-container\")\n",
    "paths = file_system_client.get_paths(path=\"my-folder\")\n",
    "\n",
    "for path in paths:\n",
    "    print(f\"Name: {path.name} | Directory: {path.is_directory}\")"
   ]
  },
  {
   "cell_type": "code",
   "execution_count": null,
   "id": "ff55827a",
   "metadata": {},
   "outputs": [],
   "source": [
    "# Connect to the container (like mounting a folder)\n",
    "file_system_client = client.get_file_system_client(\"my-container\")\n",
    "\n",
    "# Access a file inside the folder\n",
    "file_client = file_system_client.get_file_client(\"myfolder/sample.txt\")\n",
    "\n",
    "# Read the file\n",
    "data = file_client.download_file().readall().decode(\"utf-8\")\n",
    "print(data)\n"
   ]
  },
  {
   "cell_type": "markdown",
   "id": "90a6e3c9",
   "metadata": {},
   "source": [
    "Check local dev"
   ]
  },
  {
   "cell_type": "code",
   "execution_count": 7,
   "id": "ae773f69",
   "metadata": {},
   "outputs": [],
   "source": [
    "from azure.identity import ClientSecretCredential\n",
    "from azure.storage.filedatalake import DataLakeServiceClient\n",
    "import os\n",
    "from dotenv import load_dotenv\n",
    "\n",
    "load_dotenv()\n",
    "\n",
    "# Load credentials and values\n",
    "account_name = os.getenv(\"AZURE_STORAGE_ACCOUNT_NAME\")\n",
    "container = os.getenv(\"AZURE_CONTAINER_NAME\")\n",
    "directory = os.getenv(\"AZURE_DIRECTORY\")\n",
    "file_name = os.getenv(\"AZURE_FILE\")\n",
    "\n",
    "tenant_id = os.getenv(\"AZURE_TENANT_ID\")\n",
    "client_id = os.getenv(\"AZURE_CLIENT_ID\")\n",
    "client_secret = os.getenv(\"AZURE_CLIENT_SECRET\")"
   ]
  },
  {
   "cell_type": "code",
   "execution_count": null,
   "id": "217f5cfc",
   "metadata": {},
   "outputs": [
    {
     "name": "stdout",
     "output_type": "stream",
     "text": [
      "File Content:\n",
      " Lorem ipsum (/ˌlɔː.rəm ˈɪp.səm/ LOR-əm IP-səm) is a dummy or placeholder text commonly used in graphic design, publishing, and web development. Its purpose is to permit a page layout to be designed, independently of the copy that will subsequently populate it, or to demonstrate various fonts of a typeface without meaningful text that could be distracting.\n",
      "\n",
      "Lorem ipsum is typically a corrupted version of De finibus bonorum et malorum, a 1st-century BC text by the Roman statesman and philosopher Cicero, with words altered, added, and removed to make it nonsensical and improper Latin. The first two words are the truncation of dolorem ipsum (\"pain itself\").\n",
      "\n",
      "Versions of the Lorem ipsum text have been used in typesetting since the 1960s, when advertisements for Letraset transfer sheets popularized it.[1] Lorem ipsum was introduced to the digital world in the mid-1980s, when Aldus employed it in graphic and\n"
     ]
    }
   ],
   "source": [
    "# Authenticate\n",
    "credential = ClientSecretCredential(tenant_id, client_id, client_secret)\n",
    "service_client = DataLakeServiceClient(account_url=f\"https://{account_name}.dfs.core.windows.net\", credential=credential)\n",
    "\n",
    "# Access file and read it\n",
    "fs_client = service_client.get_file_system_client(container)\n",
    "file_client = fs_client.get_file_client(f\"{directory}/{file_name}\")\n",
    "data = file_client.download_file().readall().decode(\"utf-8\")\n",
    "print(\"File Content:\\n\", data)\n"
   ]
  }
 ],
 "metadata": {
  "kernelspec": {
   "display_name": ".venv",
   "language": "python",
   "name": "python3"
  },
  "language_info": {
   "codemirror_mode": {
    "name": "ipython",
    "version": 3
   },
   "file_extension": ".py",
   "mimetype": "text/x-python",
   "name": "python",
   "nbconvert_exporter": "python",
   "pygments_lexer": "ipython3",
   "version": "3.11.7"
  }
 },
 "nbformat": 4,
 "nbformat_minor": 5
}
